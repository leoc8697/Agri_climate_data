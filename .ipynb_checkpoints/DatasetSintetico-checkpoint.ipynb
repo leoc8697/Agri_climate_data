{
 "cells": [
  {
   "cell_type": "code",
   "execution_count": 11,
   "metadata": {},
   "outputs": [],
   "source": [
    "    import csv\n",
    "    import pandas as pd\n",
    "    import numpy as np"
   ]
  },
  {
   "cell_type": "code",
   "execution_count": 21,
   "metadata": {},
   "outputs": [],
   "source": [
    "def genLluvia(n_samples, devEstandar, media):\n",
    "\n",
    "    lluvia = devEstandar * np.random.randn(1,n_samples) + media\n",
    "    res = pd.DataFrame(data=np.column_stack((lluvia)))\n",
    "    return res"
   ]
  },
  {
   "cell_type": "code",
   "execution_count": 4,
   "metadata": {},
   "outputs": [],
   "source": [
    "def genHumedadAire(n_samples, devEstandar, media):\n",
    "\n",
    "    humedadAire = devEstandar * np.random.randn(1,n_samples) + media\n",
    "    res = pd.DataFrame(data=np.column_stack((humedadAire)))\n",
    "    return res\n",
    "\n",
    "def genPh(n_samples, devEstandar, media):\n",
    "\n",
    "    ph = devEstandar * np.random.randn(1,n_samples) + media\n",
    "    res = pd.DataFrame(data=np.column_stack((ph)))\n",
    "    return res\n",
    "\n",
    "def genPromHoraSol(n_samples, devEstandar, media):\n",
    "\n",
    "    promHoraSol = devEstandar * np.random.randn(1,n_samples) + media\n",
    "    res = pd.DataFrame(data=np.column_stack((promHoraSol)))\n",
    "    return res\n",
    "\n",
    "def genNitrogenoSuelo(n_samples, devEstandar, media):\n",
    "\n",
    "    nitrogenoSuelo = devEstandar * np.random.randn(1,n_samples) + media\n",
    "    res = pd.DataFrame(data=np.column_stack((nitrogenoSuelo)))\n",
    "    return res\n",
    "\n",
    "def genTempMediaAire(n_samples, devEstandar, media):\n",
    "\n",
    "    tempMediaAire = devEstandar * np.random.randn(1,n_samples) + media\n",
    "    res = pd.DataFrame(data=np.column_stack((tempMediaAire)))\n",
    "    return res\n",
    "\n",
    "def genTempMediaSuelo(n_samples, devEstandar, media):\n",
    "\n",
    "    tempMediaSuelo = devEstandar * np.random.randn(1,n_samples) + media\n",
    "    res = pd.DataFrame(data=np.column_stack((tempMediaSuelo)))\n",
    "    return res"
   ]
  },
  {
   "cell_type": "code",
   "execution_count": 5,
   "metadata": {},
   "outputs": [],
   "source": [
    "for i in range(1000):\n",
    "    day = np.array([range(1000)])\n",
    "    day = np.append(day, i+1)\n",
    "    day = np.delete(day, 0, axis=0)"
   ]
  },
  {
   "cell_type": "code",
   "execution_count": 6,
   "metadata": {},
   "outputs": [],
   "source": [
    "n_samples = 100\n",
    "dataLluvia = genLluvia(n_samples, 35, 35)\n",
    "dataHumedadAire = genHumedadAire(n_samples, 20, 65)\n",
    "dataPh = genPh(n_samples, 3, 6)\n",
    "dataPromHoraSol = genPromHoraSol(n_samples, 4, 7)\n",
    "dataNitrogenoSuelo = genNitrogenoSuelo(n_samples, 400, 800)\n",
    "dataTempMediaAire = genTempMediaAire(n_samples, 5, 21)\n",
    "dataTempMediaSuelo = genTempMediaSuelo(n_samples, 5, 18)"
   ]
  },
  {
   "cell_type": "code",
   "execution_count": 7,
   "metadata": {},
   "outputs": [],
   "source": [
    "def genDataset(res):\n",
    "\n",
    "    #p = np.random.randint(low = low, high = high, size=(1, n_samples))\n",
    "    res = pd.DataFrame(data=np.column_stack((day,dataLluvia, dataHumedadAire, dataPh, dataPromHoraSol,\n",
    "                                             dataNitrogenoSuelo, dataTempMediaAire, dataTempMediaSuelo)),\n",
    "                      columns = ['Dia','LluviaMedia al día', 'Humedad (%)', 'pH', 'PromedioHorasSol',\n",
    "                                 'Nitrogeno suelo', 'TemperaturaMediaAire', 'TemperaturaMediaSuelo'])\n",
    "    return res"
   ]
  },
  {
   "cell_type": "code",
   "execution_count": 8,
   "metadata": {},
   "outputs": [],
   "source": [
    "dataset = genDataset(0)"
   ]
  },
  {
   "cell_type": "code",
   "execution_count": 9,
   "metadata": {},
   "outputs": [
    {
     "data": {
      "text/html": [
       "<div>\n",
       "<style scoped>\n",
       "    .dataframe tbody tr th:only-of-type {\n",
       "        vertical-align: middle;\n",
       "    }\n",
       "\n",
       "    .dataframe tbody tr th {\n",
       "        vertical-align: top;\n",
       "    }\n",
       "\n",
       "    .dataframe thead th {\n",
       "        text-align: right;\n",
       "    }\n",
       "</style>\n",
       "<table border=\"1\" class=\"dataframe\">\n",
       "  <thead>\n",
       "    <tr style=\"text-align: right;\">\n",
       "      <th></th>\n",
       "      <th>Dia</th>\n",
       "      <th>LluviaMedia al día</th>\n",
       "      <th>Humedad (%)</th>\n",
       "      <th>pH</th>\n",
       "      <th>PromedioHorasSol</th>\n",
       "      <th>Nitrogeno suelo</th>\n",
       "      <th>TemperaturaMediaAire</th>\n",
       "      <th>TemperaturaMediaSuelo</th>\n",
       "    </tr>\n",
       "  </thead>\n",
       "  <tbody>\n",
       "    <tr>\n",
       "      <th>0</th>\n",
       "      <td>1.0</td>\n",
       "      <td>54.0</td>\n",
       "      <td>41.0</td>\n",
       "      <td>4.0</td>\n",
       "      <td>6.769567</td>\n",
       "      <td>7.0</td>\n",
       "      <td>13.0</td>\n",
       "      <td>25.0</td>\n",
       "    </tr>\n",
       "    <tr>\n",
       "      <th>1</th>\n",
       "      <td>2.0</td>\n",
       "      <td>57.0</td>\n",
       "      <td>26.0</td>\n",
       "      <td>6.0</td>\n",
       "      <td>6.848611</td>\n",
       "      <td>4.0</td>\n",
       "      <td>11.0</td>\n",
       "      <td>19.0</td>\n",
       "    </tr>\n",
       "    <tr>\n",
       "      <th>2</th>\n",
       "      <td>3.0</td>\n",
       "      <td>0.0</td>\n",
       "      <td>54.0</td>\n",
       "      <td>5.0</td>\n",
       "      <td>6.567859</td>\n",
       "      <td>5.0</td>\n",
       "      <td>19.0</td>\n",
       "      <td>19.0</td>\n",
       "    </tr>\n",
       "    <tr>\n",
       "      <th>3</th>\n",
       "      <td>4.0</td>\n",
       "      <td>31.0</td>\n",
       "      <td>70.0</td>\n",
       "      <td>6.0</td>\n",
       "      <td>5.967980</td>\n",
       "      <td>5.0</td>\n",
       "      <td>23.0</td>\n",
       "      <td>10.0</td>\n",
       "    </tr>\n",
       "    <tr>\n",
       "      <th>4</th>\n",
       "      <td>5.0</td>\n",
       "      <td>28.0</td>\n",
       "      <td>28.0</td>\n",
       "      <td>4.0</td>\n",
       "      <td>8.439873</td>\n",
       "      <td>6.0</td>\n",
       "      <td>22.0</td>\n",
       "      <td>13.0</td>\n",
       "    </tr>\n",
       "  </tbody>\n",
       "</table>\n",
       "</div>"
      ],
      "text/plain": [
       "   Dia  LluviaMedia al día  Humedad (%)   pH  PromedioHorasSol  \\\n",
       "0  1.0                54.0         41.0  4.0          6.769567   \n",
       "1  2.0                57.0         26.0  6.0          6.848611   \n",
       "2  3.0                 0.0         54.0  5.0          6.567859   \n",
       "3  4.0                31.0         70.0  6.0          5.967980   \n",
       "4  5.0                28.0         28.0  4.0          8.439873   \n",
       "\n",
       "   Nitrogeno suelo  TemperaturaMediaAire  TemperaturaMediaSuelo  \n",
       "0              7.0                  13.0                   25.0  \n",
       "1              4.0                  11.0                   19.0  \n",
       "2              5.0                  19.0                   19.0  \n",
       "3              5.0                  23.0                   10.0  \n",
       "4              6.0                  22.0                   13.0  "
      ]
     },
     "execution_count": 9,
     "metadata": {},
     "output_type": "execute_result"
    }
   ],
   "source": [
    "dataset.head()"
   ]
  },
  {
   "cell_type": "code",
   "execution_count": 10,
   "metadata": {},
   "outputs": [],
   "source": [
    "dataset.to_csv('dataset.csv')"
   ]
  },
  {
   "cell_type": "code",
   "execution_count": null,
   "metadata": {},
   "outputs": [],
   "source": []
  }
 ],
 "metadata": {
  "kernelspec": {
   "display_name": "Python 3",
   "language": "python",
   "name": "python3"
  },
  "language_info": {
   "codemirror_mode": {
    "name": "ipython",
    "version": 3
   },
   "file_extension": ".py",
   "mimetype": "text/x-python",
   "name": "python",
   "nbconvert_exporter": "python",
   "pygments_lexer": "ipython3",
   "version": "3.7.6"
  }
 },
 "nbformat": 4,
 "nbformat_minor": 2
}
