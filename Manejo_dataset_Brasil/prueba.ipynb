{
 "cells": [
  {
   "cell_type": "code",
   "execution_count": 1,
   "metadata": {},
   "outputs": [],
   "source": [
    "import pandas as pd\n",
    "import numpy as np"
   ]
  },
  {
   "cell_type": "code",
   "execution_count": 2,
   "metadata": {},
   "outputs": [],
   "source": [
    "n_samples = 100\n",
    "nitrogenoSuelo = np.array([range(n_samples)])\n",
    "for i in range(n_samples):\n",
    "    nitrogenoSuelo = np.append(nitrogenoSuelo, np.random.choice((100,200,300,400,500)))\n",
    "    nitrogenoSuelo = np.delete(nitrogenoSuelo, 0, axis=0)"
   ]
  },
  {
   "cell_type": "code",
   "execution_count": 8,
   "metadata": {},
   "outputs": [
    {
     "name": "stdout",
     "output_type": "stream",
     "text": [
      "[[300]\n",
      " [300]\n",
      " [500]\n",
      " [300]\n",
      " [100]\n",
      " [100]\n",
      " [400]\n",
      " [100]\n",
      " [500]\n",
      " [400]\n",
      " [500]\n",
      " [100]\n",
      " [300]\n",
      " [300]\n",
      " [500]\n",
      " [400]\n",
      " [400]\n",
      " [500]\n",
      " [400]\n",
      " [100]\n",
      " [300]\n",
      " [400]\n",
      " [500]\n",
      " [200]\n",
      " [400]\n",
      " [200]\n",
      " [500]\n",
      " [200]\n",
      " [400]\n",
      " [200]\n",
      " [400]\n",
      " [500]\n",
      " [400]\n",
      " [200]\n",
      " [400]\n",
      " [300]\n",
      " [300]\n",
      " [400]\n",
      " [200]\n",
      " [400]\n",
      " [500]\n",
      " [200]\n",
      " [100]\n",
      " [200]\n",
      " [200]\n",
      " [400]\n",
      " [100]\n",
      " [300]\n",
      " [200]\n",
      " [200]\n",
      " [500]\n",
      " [400]\n",
      " [400]\n",
      " [200]\n",
      " [400]\n",
      " [500]\n",
      " [200]\n",
      " [500]\n",
      " [100]\n",
      " [300]\n",
      " [100]\n",
      " [400]\n",
      " [500]\n",
      " [100]\n",
      " [500]\n",
      " [200]\n",
      " [200]\n",
      " [100]\n",
      " [300]\n",
      " [300]\n",
      " [500]\n",
      " [500]\n",
      " [100]\n",
      " [300]\n",
      " [200]\n",
      " [400]\n",
      " [400]\n",
      " [300]\n",
      " [200]\n",
      " [100]\n",
      " [200]\n",
      " [100]\n",
      " [200]\n",
      " [100]\n",
      " [100]\n",
      " [300]\n",
      " [200]\n",
      " [300]\n",
      " [200]\n",
      " [500]\n",
      " [200]\n",
      " [300]\n",
      " [300]\n",
      " [400]\n",
      " [400]\n",
      " [400]\n",
      " [500]\n",
      " [100]\n",
      " [500]\n",
      " [200]]\n"
     ]
    }
   ],
   "source": [
    "print(nitrogenoSuelo)"
   ]
  },
  {
   "cell_type": "code",
   "execution_count": 7,
   "metadata": {},
   "outputs": [],
   "source": [
    "nitrogenoSuelo = nitrogenoSuelo.reshape(100,1)\n",
    "\n"
   ]
  }
 ],
 "metadata": {
  "kernelspec": {
   "display_name": "Python 3",
   "language": "python",
   "name": "python3"
  },
  "language_info": {
   "codemirror_mode": {
    "name": "ipython",
    "version": 3
   },
   "file_extension": ".py",
   "mimetype": "text/x-python",
   "name": "python",
   "nbconvert_exporter": "python",
   "pygments_lexer": "ipython3",
   "version": "3.7.6"
  }
 },
 "nbformat": 4,
 "nbformat_minor": 4
}
